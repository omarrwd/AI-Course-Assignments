{
 "cells": [
  {
   "cell_type": "markdown",
   "metadata": {},
   "source": [
    "### Class Customer"
   ]
  },
  {
   "cell_type": "code",
   "execution_count": 1,
   "metadata": {},
   "outputs": [],
   "source": [
    "class Customer:\n",
    "    def __init__(self, name, age):\n",
    "        self._name = name\n",
    "        self._age = age\n",
    "\n",
    "    # Getter for name attribute\n",
    "    def get_name(self):\n",
    "        return self._name\n",
    "\n",
    "    # Setter for name attribute\n",
    "    def set_name(self, name):\n",
    "        self._name = name\n",
    "\n",
    "    # Getter for age attribute\n",
    "    def get_age(self):\n",
    "        return self._age\n",
    "\n",
    "    # Setter for age attribute\n",
    "    def set_age(self, age):\n",
    "        self._age = age\n"
   ]
  },
  {
   "cell_type": "markdown",
   "metadata": {},
   "source": [
    "### Class MainBikeRental"
   ]
  },
  {
   "cell_type": "code",
   "execution_count": 2,
   "metadata": {},
   "outputs": [],
   "source": [
    "class MainBikeRental:\n",
    "    def __init__(self):\n",
    "        self._bikes = []\n",
    "        self._rentals = []\n",
    "\n",
    "    def get_bikes(self):\n",
    "        return self._bikes\n",
    "\n",
    "    def set_bikes(self, bikes):\n",
    "        self._bikes = bikes\n",
    "\n",
    "    def get_rentals(self):\n",
    "        return self._rentals\n",
    "\n",
    "    def set_rentals(self, rentals):\n",
    "        self._rentals = rentals\n",
    "\n",
    "    def requestBike(self, customer, num_of_bikes):\n",
    "        if customer.get_age() < 6:\n",
    "            print(\"Customer must be at least 6 years old to rent a bike.\")\n",
    "            return\n",
    "\n",
    "        if num_of_bikes <= len(self._bikes):\n",
    "            for _ in range(num_of_bikes):\n",
    "                bike = self._bikes.pop()\n",
    "                self._rentals.append(bike)\n",
    "            print(f\"{num_of_bikes} bike(s) rented to {customer.get_name()}.\")\n",
    "        else:\n",
    "            print(\n",
    "                \"Sorry, we don't have enough bikes available. Please wait 10 minutes.\"\n",
    "            )\n",
    "\n",
    "    def returnBike(self, customer, rentalTime, num_of_bikes):\n",
    "        if num_of_bikes <= len(self._rentals):\n",
    "            total_cost = rentalTime * 40\n",
    "            print(f\"Total cost for {customer.get_name()}: ${total_cost}\")\n",
    "\n",
    "            for _ in range(num_of_bikes):\n",
    "                bike = self._rentals.pop()\n",
    "                self._bikes.append(bike)\n",
    "            print(f\"{num_of_bikes} bike(s) returned by {customer.get_name()}.\")\n",
    "        else:\n",
    "            print(f\"{customer.get_name()} does not have {num_of_bikes} bike(s) rented.\")\n",
    "\n",
    "    def addBike(self, bike):\n",
    "        self._bikes.append(bike)\n",
    "        print(\"Bike added to the store.\")\n",
    "\n",
    "    def totalCost(self):\n",
    "        total_cost = len(self._bikes) * 500\n",
    "        return total_cost"
   ]
  },
  {
   "cell_type": "markdown",
   "metadata": {},
   "source": [
    "### Class Bike."
   ]
  },
  {
   "cell_type": "code",
   "execution_count": 3,
   "metadata": {},
   "outputs": [],
   "source": [
    "class Bike:\n",
    "    def __init__(self, name, price):\n",
    "        self._name = name\n",
    "        self._price = price\n",
    "\n",
    "    # Getter for name attribute\n",
    "    def get_name(self):\n",
    "        return self._name\n",
    "\n",
    "    # Setter for name attribute\n",
    "    def set_name(self, name):\n",
    "        self._name = name\n",
    "\n",
    "    # Getter for price attribute\n",
    "    def get_price(self):\n",
    "        return self._price\n",
    "\n",
    "    # Setter for price attribute\n",
    "    def set_price(self, price):\n",
    "        self._price = price\n"
   ]
  },
  {
   "cell_type": "markdown",
   "metadata": {},
   "source": [
    "### Class Electric Bike"
   ]
  },
  {
   "cell_type": "code",
   "execution_count": 4,
   "metadata": {},
   "outputs": [],
   "source": [
    "class ElectricBike(Bike):\n",
    "    def __init__(self, name, price, maxspeed):\n",
    "        super().__init__(name, price)\n",
    "        self._maxspeed = maxspeed\n",
    "\n",
    "    # Getter for maxspeed attribute\n",
    "    def get_maxspeed(self):\n",
    "        return self._maxspeed\n",
    "\n",
    "    # Setter for maxspeed attribute\n",
    "    def set_maxspeed(self, maxspeed):\n",
    "        self._maxspeed = maxspeed\n"
   ]
  },
  {
   "cell_type": "markdown",
   "metadata": {},
   "source": [
    "### Class Normal Bike"
   ]
  },
  {
   "cell_type": "code",
   "execution_count": 5,
   "metadata": {},
   "outputs": [],
   "source": [
    "class NormalBike(Bike):\n",
    "    def __init__(self, name, price, maxspeed):\n",
    "        super().__init__(name, price)\n",
    "        self._maxspeed = maxspeed\n",
    "\n",
    "    # Getter for maxspeed attribute\n",
    "    def get_maxspeed(self):\n",
    "        return self._maxspeed\n",
    "\n",
    "    # Setter for maxspeed attribute\n",
    "    def set_maxspeed(self, maxspeed):\n",
    "        self._maxspeed = maxspeed\n"
   ]
  },
  {
   "cell_type": "markdown",
   "metadata": {},
   "source": [
    "### Examples for each class"
   ]
  },
  {
   "cell_type": "code",
   "execution_count": 11,
   "metadata": {},
   "outputs": [
    {
     "name": "stdout",
     "output_type": "stream",
     "text": [
      "25\n",
      "1500\n",
      "2000\n",
      "30\n",
      "Mountain Bike\n",
      "25\n",
      "Bike added to the store.\n",
      "Bike added to the store.\n",
      "Bike added to the store.\n",
      "1 bike(s) rented to John Doe.\n",
      "2 bike(s) rented to Jane Smith.\n",
      "Customer must be at least 6 years old to rent a bike.\n",
      "Sorry, we don't have enough bikes available. Please wait 10 minutes.\n",
      "Total cost for John Doe: $120\n",
      "1 bike(s) returned by John Doe.\n",
      "Total cost for Jane Smith: $80\n",
      "2 bike(s) returned by Jane Smith.\n",
      "Total cost of bikes in the store: $1500\n"
     ]
    }
   ],
   "source": [
    "# class ElectricBike:\n",
    "electric_bike1 = ElectricBike(\"Electric Mountain Bike\", 1500, 25)\n",
    "electric_bike2 = ElectricBike(\"Electric Road Bike\", 2000, 30)\n",
    "print(electric_bike1.get_maxspeed())\n",
    "print(electric_bike1.get_price())\n",
    "print(electric_bike2.get_price())\n",
    "print(electric_bike2.get_maxspeed())\n",
    "# class NormalBike:\n",
    "\n",
    "normal_bike1 = NormalBike(\"Mountain Bike\", 500, 20)\n",
    "normal_bike2 = NormalBike(\"Road Bike\", 800, 25)\n",
    "print(normal_bike1.get_name())\n",
    "print(normal_bike2.get_maxspeed())\n",
    "\n",
    "# Class MainBikeRental And Customer Class:\n",
    "bike_rental = MainBikeRental()\n",
    "# Add bikes to the store\n",
    "bike_rental.addBike(electric_bike2)\n",
    "bike_rental.addBike(normal_bike1)\n",
    "bike_rental.addBike(normal_bike2)\n",
    "\n",
    "customer1 = Customer(\"John Doe\", 25)\n",
    "customer2 = Customer(\"Jane Smith\", 30)\n",
    "customer3 = Customer(\"Bob Johnson\", 5)\n",
    "customer4 = Customer(\"Alice Williams\", 7)\n",
    "\n",
    "bike_rental.requestBike(customer1, 1)\n",
    "bike_rental.requestBike(customer2, 2)\n",
    "bike_rental.requestBike(customer3, 1)\n",
    "bike_rental.requestBike(customer4, 10)\n",
    "\n",
    "bike_rental.returnBike(customer1, 3, 1)\n",
    "bike_rental.returnBike(customer2, 2, 2)\n",
    "\n",
    "total_cost = bike_rental.totalCost()\n",
    "print(f\"Total cost of bikes in the store: ${total_cost}\")"
   ]
  },
  {
   "cell_type": "code",
   "execution_count": null,
   "metadata": {},
   "outputs": [],
   "source": []
  }
 ],
 "metadata": {
  "kernelspec": {
   "display_name": "Python 3",
   "language": "python",
   "name": "python3"
  },
  "language_info": {
   "codemirror_mode": {
    "name": "ipython",
    "version": 3
   },
   "file_extension": ".py",
   "mimetype": "text/x-python",
   "name": "python",
   "nbconvert_exporter": "python",
   "pygments_lexer": "ipython3",
   "version": "3.12.1"
  }
 },
 "nbformat": 4,
 "nbformat_minor": 2
}
