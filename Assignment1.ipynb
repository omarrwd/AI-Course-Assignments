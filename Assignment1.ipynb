{
 "cells": [
  {
   "cell_type": "markdown",
   "metadata": {},
   "source": [
    "### 1.Write a program to ask the user to enter number and print the number is odd or even?"
   ]
  },
  {
   "cell_type": "code",
   "execution_count": 1,
   "metadata": {},
   "outputs": [
    {
     "name": "stdout",
     "output_type": "stream",
     "text": [
      "The number is odd.\n"
     ]
    }
   ],
   "source": [
    "number = int(input(\"Enter a number: \"))\n",
    "\n",
    "if number % 2 == 0:\n",
    "    print(\"The number is even.\")\n",
    "else:\n",
    "    print(\"The number is odd.\")\n"
   ]
  },
  {
   "cell_type": "markdown",
   "metadata": {},
   "source": [
    "### 2.Write a program to find a maximum and a minimum of three numbers or if the numbers are equal to each other, find if the given number is positive or negative?"
   ]
  },
  {
   "cell_type": "code",
   "execution_count": 2,
   "metadata": {},
   "outputs": [
    {
     "name": "stdout",
     "output_type": "stream",
     "text": [
      "Maximum number is: 3.0\n",
      "Minimum number is: 1.0\n"
     ]
    }
   ],
   "source": [
    "num1 = float(input(\"Enter first number: \"))\n",
    "num2 = float(input(\"Enter second number: \"))\n",
    "num3 = float(input(\"Enter third number: \"))\n",
    "\n",
    "# Find the maximum of the three numbers\n",
    "maximum = num1\n",
    "if num2 > maximum:\n",
    "    maximum = num2\n",
    "if num3 > maximum:\n",
    "    maximum = num3\n",
    "\n",
    "# Find the minimum of the three numbers\n",
    "minimum = num1\n",
    "if num2 < minimum:\n",
    "    minimum = num2\n",
    "if num3 < minimum:\n",
    "    minimum = num3\n",
    "\n",
    "# Check if the numbers are equal\n",
    "if num1 == num2 == num3:\n",
    "    if num1 > 0:\n",
    "        print(\"All numbers are equal and positive.\")\n",
    "    elif num1 < 0:\n",
    "        print(\"All numbers are equal and negative.\")\n",
    "    else:\n",
    "        print(\"All numbers are equal to zero.\")\n",
    "else:\n",
    "    print(\"Maximum number is:\", maximum)\n",
    "    print(\"Minimum number is:\", minimum)\n"
   ]
  },
  {
   "cell_type": "markdown",
   "metadata": {},
   "source": [
    "### 3.Write a program to ask from the user a word to check if it contains a vowel character or not. In case having a vowel character print its position?"
   ]
  },
  {
   "cell_type": "code",
   "execution_count": 8,
   "metadata": {},
   "outputs": [
    {
     "name": "stdout",
     "output_type": "stream",
     "text": [
      "The word contains a vowel at position: 1\n",
      "The word contains a vowel at position: 3\n"
     ]
    }
   ],
   "source": [
    "word = input(\"Enter a word: \")\n",
    "\n",
    "position = 1\n",
    "\n",
    "# Loop through each character in the word\n",
    "for char in word:\n",
    "    # Check if the character is a vowel\n",
    "    if char in 'aeiouAEIOU':\n",
    "        print(\"The word contains a vowel at position:\", position)\n",
    "    position += 1\n",
    "else:\n",
    "    if position == 1:\n",
    "        print(\"The word does not contain any vowel character.\")\n"
   ]
  },
  {
   "cell_type": "markdown",
   "metadata": {},
   "source": [
    "### 4. Write a program to display the last digit of a number EX: number =145678 output => 8?"
   ]
  },
  {
   "cell_type": "code",
   "execution_count": 2,
   "metadata": {},
   "outputs": [
    {
     "name": "stdout",
     "output_type": "stream",
     "text": [
      "Last digit of 1456783 is: 3\n"
     ]
    }
   ],
   "source": [
    "number = 1456783\n",
    "# Get the last digit\n",
    "last_digit = number % 10\n",
    "\n",
    "print(\"Last digit of\", number, \"is:\", last_digit)\n"
   ]
  },
  {
   "cell_type": "markdown",
   "metadata": {},
   "source": [
    "### 5. Write a program to accept number from user and find if the number is divisible by 2 and 3 both?"
   ]
  },
  {
   "cell_type": "code",
   "execution_count": 6,
   "metadata": {},
   "outputs": [
    {
     "name": "stdout",
     "output_type": "stream",
     "text": [
      "12 is divisible by both 2 and 3.\n"
     ]
    }
   ],
   "source": [
    "number = int(input(\"Enter a number: \"))\n",
    "\n",
    "# Check if the number is divisible by 2 and 3 both\n",
    "if number % 2 == 0 and number % 3 == 0:\n",
    "    print(number, \"is divisible by both 2 and 3.\")\n",
    "else:\n",
    "    print(number, \"is not divisible by both 2 and 3.\")\n"
   ]
  },
  {
   "cell_type": "markdown",
   "metadata": {},
   "source": [
    "### 6. Write a program to accept the following from the user and calculate the percentage of class attended, if the percentage is less than 75, then student will not be able to sit in exam: - Total number of working days - Total number of days for absent ?"
   ]
  },
  {
   "cell_type": "code",
   "execution_count": null,
   "metadata": {},
   "outputs": [],
   "source": [
    "# Accept input from the user\n",
    "total_working_days = int(input(\"Enter total number of working days: \"))\n",
    "total_absent_days = int(input(\"Enter total number of days absent: \"))\n",
    "\n",
    "# Calculate the percentage of classes attended\n",
    "attendance_percentage = ((total_working_days - total_absent_days) / total_working_days) * 100\n",
    "\n",
    "# Check if the attendance percentage is less than 75\n",
    "if attendance_percentage < 75:\n",
    "    print(\"You are not eligible to sit in the exam.\")\n",
    "else:\n",
    "    print(\"You are eligible to sit in the exam.\")\n"
   ]
  },
  {
   "cell_type": "markdown",
   "metadata": {},
   "source": [
    "### 7.Write a program to accept market price from the user and calculate the price after discount to pay according to following criteria?"
   ]
  },
  {
   "cell_type": "code",
   "execution_count": null,
   "metadata": {},
   "outputs": [],
   "source": [
    "market_price = float(input(\"Enter the market price: \"))\n",
    "\n",
    "# Calculate the price after discount\n",
    "if market_price > 10000:\n",
    "    discounted_price = market_price * 0.8  # 20% discount\n",
    "elif market_price > 7000:\n",
    "    discounted_price = market_price * 0.85  # 15% discount\n",
    "else:\n",
    "    discounted_price = market_price * 0.9   # 10% discount\n",
    "\n",
    "# Print the discounted price\n",
    "print(\"Price after discount: {:.2f}\".format(discounted_price))\n"
   ]
  },
  {
   "cell_type": "markdown",
   "metadata": {},
   "source": [
    "### 8. Given a string, write a python program that convert the string based on the  following conditions?"
   ]
  },
  {
   "cell_type": "code",
   "execution_count": 7,
   "metadata": {},
   "outputs": [
    {
     "name": "stdout",
     "output_type": "stream",
     "text": [
      "Converted string: ONAR\n"
     ]
    }
   ],
   "source": [
    "input_string = input(\"Enter a string: \")\n",
    "\n",
    "# Convert the string based on the conditions\n",
    "new_string = \"\"\n",
    "for char in input_string:\n",
    "    if char.islower() and char.upper() < char:\n",
    "        new_string += char.upper()\n",
    "    elif char.isupper() and char.lower() < char:\n",
    "        new_string += char.lower()\n",
    "    else:\n",
    "        new_string += char\n",
    "\n",
    "# Print the converted string\n",
    "print(\"Converted string:\", new_string)\n"
   ]
  },
  {
   "cell_type": "markdown",
   "metadata": {},
   "source": [
    "### 9.Write a program to accept number from the user and check if the given number is palindrome or Armstrong or not? "
   ]
  },
  {
   "cell_type": "code",
   "execution_count": null,
   "metadata": {},
   "outputs": [],
   "source": [
    "number = int(input(\"Enter a number: \"))\n",
    "\n",
    "# Check if the number is palindrome\n",
    "original_number = number\n",
    "reverse_number = 0\n",
    "while number > 0:\n",
    "    digit = number % 10\n",
    "    reverse_number = reverse_number * 10 + digit\n",
    "    number //= 10\n",
    "\n",
    "if original_number == reverse_number:\n",
    "    print(original_number, \"is a palindrome.\")\n",
    "else:\n",
    "    print(original_number, \"is not a palindrome.\")\n",
    "\n",
    "# Check if the number is Armstrong\n",
    "num_digits = len(str(original_number))\n",
    "number = original_number\n",
    "sum_of_digits = 0\n",
    "while number > 0:\n",
    "    digit = number % 10\n",
    "    sum_of_digits += digit ** num_digits\n",
    "    number //= 10\n",
    "\n",
    "if original_number == sum_of_digits:\n",
    "    print(original_number, \"is an Armstrong number.\")\n",
    "else:\n",
    "    print(original_number, \"is not an Armstrong number.\")\n"
   ]
  },
  {
   "cell_type": "markdown",
   "metadata": {},
   "source": [
    "###  11.Write a program to find the sum of the following series: 1 + 4 – 9 +16 – 25 + 36 ………..n terms ?"
   ]
  },
  {
   "cell_type": "code",
   "execution_count": null,
   "metadata": {},
   "outputs": [],
   "source": [
    "n = int(input(\"Enter the number of terms: \"))\n",
    "\n",
    "series_sum = 0\n",
    "\n",
    "# Iterate through each term\n",
    "for i in range(1, n + 1):\n",
    "    term = i * i  # Calculate the current term\n",
    "    if i % 2 == 0:  # If the position is even, subtract the term\n",
    "        series_sum -= term\n",
    "    else:  # If the position is odd, add the term\n",
    "        series_sum += term\n",
    "\n",
    "# Print the sum of the series\n",
    "print(\"Sum of the series:\", series_sum)\n"
   ]
  },
  {
   "cell_type": "markdown",
   "metadata": {},
   "source": [
    "###  12. Write a program to count number of “car” word in a string accepted from user and the positions of them?  "
   ]
  },
  {
   "cell_type": "code",
   "execution_count": 3,
   "metadata": {},
   "outputs": [
    {
     "name": "stdout",
     "output_type": "stream",
     "text": [
      "The word 'car' appears 1 time(s) in the string.\n",
      "Positions: [2]\n"
     ]
    }
   ],
   "source": [
    "def find_car_positions(string):\n",
    "    words = string.split()\n",
    "    car_positions = []\n",
    "    \n",
    "    for i, word in enumerate(words):\n",
    "        if word.lower() == \"car\":\n",
    "            car_positions.append(i + 1)\n",
    "    \n",
    "    return car_positions\n",
    "\n",
    "# Accept input from the user\n",
    "user_string = input(\"Enter a string: \")\n",
    "\n",
    "# Find the positions of \"car\" in the string\n",
    "positions = find_car_positions(user_string)\n",
    "\n",
    "# Count the number of occurrences of \"car\"\n",
    "count = len(positions)\n",
    "\n",
    "# Display the result\n",
    "print(f\"The word 'car' appears {count} time(s) in the string.\")\n",
    "if count > 0:\n",
    "    print(\"Positions:\", positions)\n"
   ]
  },
  {
   "cell_type": "markdown",
   "metadata": {},
   "source": [
    "###  13. Write a program to check whether an input string is palindrome or not?"
   ]
  },
  {
   "cell_type": "code",
   "execution_count": 2,
   "metadata": {},
   "outputs": [
    {
     "name": "stdout",
     "output_type": "stream",
     "text": [
      "Not a palindrome\n"
     ]
    }
   ],
   "source": [
    "def is_palindrome(s):\n",
    "    # Remove spaces and convert to lowercase\n",
    "    s = s.replace(\" \", \"\").lower()\n",
    "    \n",
    "    # Check if the string is equal to its reverse\n",
    "    return s == s[::-1]\n",
    "\n",
    "# Get user input\n",
    "user_input = input(\"Enter a string: \")\n",
    "\n",
    "# Check if the input string is a palindrome\n",
    "if is_palindrome(user_input):\n",
    "    print(\"Palindrome\")\n",
    "else:\n",
    "    print(\"Not a palindrome\")\n"
   ]
  },
  {
   "cell_type": "markdown",
   "metadata": {},
   "source": [
    "###  14.Write a program to print the following pattern:"
   ]
  },
  {
   "cell_type": "code",
   "execution_count": 1,
   "metadata": {},
   "outputs": [
    {
     "name": "stdout",
     "output_type": "stream",
     "text": [
      "1 \n",
      "1 2 \n",
      "1 2 3 \n",
      "1 2 3 4 \n",
      "****\n",
      "***\n",
      "**\n",
      "*\n"
     ]
    }
   ],
   "source": [
    "#A\n",
    "def print_pattern_a(rows):\n",
    "    for i in range(1, rows + 1):\n",
    "        for j in range(1, i + 1):\n",
    "            print(j, end=\" \")\n",
    "        print()\n",
    "\n",
    "# Number of rows in pattern\n",
    "rows_a = 4\n",
    "\n",
    "# Printing pattern a\n",
    "print_pattern_a(rows_a)\n",
    "\n",
    "\n",
    "\n",
    "\n",
    "# B\n",
    "def print_pattern_b(rows):\n",
    "    for i in range(rows, 0, -1):\n",
    "        print(\"*\" * i)\n",
    "\n",
    "# Number of rows in pattern\n",
    "rows_b = 4\n",
    "\n",
    "# Printing pattern b\n",
    "print_pattern_b(rows_b)\n"
   ]
  },
  {
   "cell_type": "code",
   "execution_count": null,
   "metadata": {},
   "outputs": [],
   "source": []
  }
 ],
 "metadata": {
  "kernelspec": {
   "display_name": "Python 3",
   "language": "python",
   "name": "python3"
  },
  "language_info": {
   "codemirror_mode": {
    "name": "ipython",
    "version": 3
   },
   "file_extension": ".py",
   "mimetype": "text/x-python",
   "name": "python",
   "nbconvert_exporter": "python",
   "pygments_lexer": "ipython3",
   "version": "3.12.1"
  }
 },
 "nbformat": 4,
 "nbformat_minor": 2
}
