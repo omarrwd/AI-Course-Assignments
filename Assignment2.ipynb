{
 "cells": [
  {
   "cell_type": "markdown",
   "metadata": {},
   "source": [
    "### 1.Write a program that ask user to enter input (text or number or number with text)"
   ]
  },
  {
   "cell_type": "code",
   "execution_count": null,
   "metadata": {},
   "outputs": [],
   "source": [
    "user_input = input(\"Enter input (text, number, or number with text): \")\n",
    "\n",
    "if user_input.isdigit():\n",
    "    # Input is a number, calculate the sum of its digits\n",
    "    digit_sum = sum(int(digit) for digit in user_input)\n",
    "    print(\"Sum of digits:\", digit_sum)\n",
    "elif user_input.replace(\" \", \"\").isalpha():\n",
    "    # Input is text, remove the spaces\n",
    "    text_without_spaces = user_input.replace(\" \", \"\")\n",
    "    print(\"Text without spaces:\", text_without_spaces)\n",
    "else:\n",
    "    # Input is a combination of number and text, split them\n",
    "    number = \"\".join(char for char in user_input if char.isdigit())\n",
    "    text = \"\".join(char for char in user_input if not char.isdigit() and char != \" \")\n",
    "    print(\"Number:\", number)\n",
    "    print(\"Text:\", text)\n"
   ]
  },
  {
   "cell_type": "markdown",
   "metadata": {},
   "source": [
    "### 2.Write a function which accept a string as argument and display total number of words."
   ]
  },
  {
   "cell_type": "code",
   "execution_count": 2,
   "metadata": {},
   "outputs": [
    {
     "name": "stdout",
     "output_type": "stream",
     "text": [
      "Total number of words: 2\n"
     ]
    }
   ],
   "source": [
    "def count_words(string):\n",
    "    words = string.split()\n",
    "    word_count = len(words)\n",
    "    print(\"Total number of words:\", word_count)\n",
    "\n",
    "# Example usage\n",
    "sentence = input(\"Enter a sentence: \")\n",
    "count_words(sentence)\n"
   ]
  },
  {
   "cell_type": "code",
   "execution_count": null,
   "metadata": {},
   "outputs": [],
   "source": []
  },
  {
   "cell_type": "markdown",
   "metadata": {},
   "source": [
    "### 3.Write function pow() that calculates the power, which takes base and exponent as arguments."
   ]
  },
  {
   "cell_type": "code",
   "execution_count": 5,
   "metadata": {},
   "outputs": [
    {
     "name": "stdout",
     "output_type": "stream",
     "text": [
      "2 raised to the power of 3 is: 8\n"
     ]
    }
   ],
   "source": [
    "def pow(base, exponent):\n",
    "    result = 1\n",
    "    for _ in range(exponent):\n",
    "        result *= base\n",
    "    return result\n",
    "\n",
    "# Example usage\n",
    "base = int(input(\"Enter the base number: \"))\n",
    "exponent = int(input(\"Enter the exponent: \"))\n",
    "\n",
    "power = pow(base, exponent)\n",
    "print(f\"{base} raised to the power of {exponent} is: {power}\")\n"
   ]
  },
  {
   "cell_type": "markdown",
   "metadata": {},
   "source": [
    "### 4. Write function area() that calculates the area of the shape."
   ]
  },
  {
   "cell_type": "code",
   "execution_count": 4,
   "metadata": {},
   "outputs": [
    {
     "name": "stdout",
     "output_type": "stream",
     "text": [
      "Area: 6.0\n"
     ]
    }
   ],
   "source": [
    "def area(shape, dimensions):\n",
    "    if shape == \"circle\":\n",
    "        radius = dimensions[0]\n",
    "        return 3.14159 * radius ** 2\n",
    "    elif shape == \"rectangle\":\n",
    "        length, width = dimensions\n",
    "        return length * width\n",
    "    elif shape == \"triangle\":\n",
    "        base, height = dimensions\n",
    "        return 0.5 * base * height\n",
    "    else:\n",
    "        return \"Unsupported shape\"\n",
    "\n",
    "# Example usage\n",
    "shape = input(\"Enter the shape (circle/rectangle/triangle): \")\n",
    "dimensions = []\n",
    "\n",
    "if shape == \"circle\":\n",
    "    radius = float(input(\"Enter the radius: \"))\n",
    "    dimensions.append(radius)\n",
    "elif shape == \"rectangle\":\n",
    "    length = float(input(\"Enter the length: \"))\n",
    "    width = float(input(\"Enter the width: \"))\n",
    "    dimensions.extend([length, width])\n",
    "elif shape == \"triangle\":\n",
    "    base = float(input(\"Enter the base: \"))\n",
    "    height = float(input(\"Enter the height: \"))\n",
    "    dimensions.extend([base, height])\n",
    "\n",
    "result = area(shape, dimensions)\n",
    "print(\"Area:\", result)\n"
   ]
  },
  {
   "cell_type": "markdown",
   "metadata": {},
   "source": [
    "### 5. Write a program to find the sum of all numbers in a list."
   ]
  },
  {
   "cell_type": "code",
   "execution_count": 19,
   "metadata": {},
   "outputs": [
    {
     "name": "stdout",
     "output_type": "stream",
     "text": [
      "The sum of the numbers in the list is: 15\n"
     ]
    }
   ],
   "source": [
    "def sum_list(numbers):\n",
    "    total = 0\n",
    "    for num in numbers:\n",
    "        total += num\n",
    "    return total\n",
    "\n",
    "my_list = [1, 2, 3, 4, 5]\n",
    "result = sum_list(my_list)\n",
    "print(\"The sum of the numbers in the list is:\", result)\n"
   ]
  },
  {
   "cell_type": "markdown",
   "metadata": {},
   "source": [
    "### 6. Write a program to concatenate two tuples then get the max and min element."
   ]
  },
  {
   "cell_type": "code",
   "execution_count": 7,
   "metadata": {},
   "outputs": [
    {
     "name": "stdout",
     "output_type": "stream",
     "text": [
      "Concatenated tuple: (1, 5, 3, 9, 2, 7, 4, 6, 8)\n",
      "Maximum element: 9\n",
      "Minimum element: 1\n"
     ]
    }
   ],
   "source": [
    "# Concatenate two tuples\n",
    "tuple1 = (1, 5, 3, 9, 2)\n",
    "tuple2 = (7, 4, 6, 8)\n",
    "concatenated_tuple = tuple1 + tuple2\n",
    "\n",
    "# Find the max and min elements\n",
    "max_element = max(concatenated_tuple)\n",
    "min_element = min(concatenated_tuple)\n",
    "\n",
    "# Print the results\n",
    "print(\"Concatenated tuple:\", concatenated_tuple)\n",
    "print(\"Maximum element:\", max_element)\n",
    "print(\"Minimum element:\", min_element)\n"
   ]
  },
  {
   "cell_type": "markdown",
   "metadata": {},
   "source": [
    "### 7. Write a function that takes tuple as argument and if length of tuple greater than 5, return the count of number elements. Note that the tuple may be with different data types."
   ]
  },
  {
   "cell_type": "code",
   "execution_count": 8,
   "metadata": {},
   "outputs": [
    {
     "name": "stdout",
     "output_type": "stream",
     "text": [
      "Tuple 1: (1, 'apple', 3.14, True, 2, 'banana')\n",
      "Number of numeric elements in Tuple 1: 3\n",
      "Tuple 2: (1, 2, 3)\n",
      "Number of numeric elements in Tuple 2: None\n"
     ]
    }
   ],
   "source": [
    "def count_elements(tuple_arg):\n",
    "    if len(tuple_arg) > 5:\n",
    "        num_count = sum(1 for element in tuple_arg if type(element) in (int, float))\n",
    "        return num_count\n",
    "    else:\n",
    "        return None\n",
    "\n",
    "tuple1 = (1, \"apple\", 3.14, True, 2, \"banana\")\n",
    "tuple2 = (1, 2, 3)\n",
    "\n",
    "result1 = count_elements(tuple1)\n",
    "result2 = count_elements(tuple2)\n",
    "\n",
    "print(\"Tuple 1:\", tuple1)\n",
    "print(\"Number of numeric elements in Tuple 1:\", result1)\n",
    "\n",
    "print(\"Tuple 2:\", tuple2)\n",
    "print(\"Number of numeric elements in Tuple 2:\", result2)\n"
   ]
  },
  {
   "cell_type": "markdown",
   "metadata": {},
   "source": [
    "### 8.Write a function which will able to print a index of list element without using index function."
   ]
  },
  {
   "cell_type": "code",
   "execution_count": 9,
   "metadata": {},
   "outputs": [
    {
     "name": "stdout",
     "output_type": "stream",
     "text": [
      "Index of 15: 2\n",
      "30 not found in the list.\n"
     ]
    }
   ],
   "source": [
    "def print_index(lst, element):\n",
    "    for i in range(len(lst)):\n",
    "        if lst[i] == element:\n",
    "            print(f\"Index of {element}: {i}\")\n",
    "            return\n",
    "    print(f\"{element} not found in the list.\")\n",
    "\n",
    "# Example usage\n",
    "my_list = [5, 10, 15, 20, 25]\n",
    "print_index(my_list, 15)\n",
    "print_index(my_list, 30)\n"
   ]
  },
  {
   "cell_type": "markdown",
   "metadata": {},
   "source": [
    "### 9. Write a Python function to check whether a number falls within a given range."
   ]
  },
  {
   "cell_type": "code",
   "execution_count": 10,
   "metadata": {},
   "outputs": [
    {
     "name": "stdout",
     "output_type": "stream",
     "text": [
      "5 is within the range 1 to 10\n",
      "15 is outside the range 1 to 10\n",
      "0 is outside the range 1 to 10\n"
     ]
    }
   ],
   "source": [
    "def is_in_range(number, start, end):\n",
    "    if start <= number <= end:\n",
    "        print(f\"{number} is within the range {start} to {end}\")\n",
    "    else:\n",
    "        print(f\"{number} is outside the range {start} to {end}\")\n",
    "\n",
    "# Example usage\n",
    "is_in_range(5, 1, 10)\n",
    "is_in_range(15, 1, 10)\n",
    "is_in_range(0, 1, 10)\n"
   ]
  },
  {
   "cell_type": "markdown",
   "metadata": {},
   "source": [
    "### 10. Write a Python function that takes a number as a parameter and checks whether the number is prime or not."
   ]
  },
  {
   "cell_type": "code",
   "execution_count": 13,
   "metadata": {},
   "outputs": [
    {
     "name": "stdout",
     "output_type": "stream",
     "text": [
      "2 is a prime number.\n"
     ]
    }
   ],
   "source": [
    "def is_prime(number):\n",
    "    if number <= 1:\n",
    "        return False\n",
    "    for i in range(2, int(number ** 0.5) + 1):\n",
    "        if number % i == 0:\n",
    "            return False\n",
    "    return True\n",
    "\n",
    "# Example usage\n",
    "num = int(input(\"Enter a number: \"))\n",
    "if is_prime(num):\n",
    "    print(f\"{num} is a prime number.\")\n",
    "else:\n",
    "    print(f\"{num} is not a prime number.\")\n"
   ]
  },
  {
   "cell_type": "markdown",
   "metadata": {},
   "source": [
    "### 11. Write a Python program to calculate the average value of the numbers in a given tuple of tuples."
   ]
  },
  {
   "cell_type": "code",
   "execution_count": 15,
   "metadata": {},
   "outputs": [
    {
     "name": "stdout",
     "output_type": "stream",
     "text": [
      "Original Tuple:\n",
      "((10, 10, 10, 12), (30, 45, 56, 45), (81, 80, 39, 32), (1, 2, 3, 4))\n",
      "Average value of the numbers of each tuple of tuples:\n",
      "[10.5, 44.0, 58.0, 2.5]\n"
     ]
    }
   ],
   "source": [
    "def calculate_averages(tuple_of_tuples):\n",
    "    averages = []\n",
    "    for tuple_item in tuple_of_tuples:\n",
    "        average = sum(tuple_item) / len(tuple_item)\n",
    "        averages.append(average)\n",
    "    return averages\n",
    "\n",
    "# Original tuple of tuples\n",
    "original_tuple = ((10, 10, 10, 12), (30, 45, 56, 45), (81, 80, 39, 32), (1, 2, 3, 4))\n",
    "\n",
    "# Calculate the average value of each tuple\n",
    "result = calculate_averages(original_tuple)\n",
    "\n",
    "# Print the original tuple and the average values\n",
    "print(\"Original Tuple:\")\n",
    "print(original_tuple)\n",
    "print(\"Average value of the numbers of each tuple of tuples:\")\n",
    "print(result)\n"
   ]
  },
  {
   "cell_type": "markdown",
   "metadata": {},
   "source": [
    "### 12. Write a Python program to check if a list is empty or not. if not, sort it in increasing order."
   ]
  },
  {
   "cell_type": "code",
   "execution_count": 16,
   "metadata": {},
   "outputs": [
    {
     "name": "stdout",
     "output_type": "stream",
     "text": [
      "The sorted list in increasing order:\n",
      "[1, 2, 5, 8, 9]\n",
      "The list is empty.\n"
     ]
    }
   ],
   "source": [
    "def check_and_sort_list(lst):\n",
    "    if not lst:\n",
    "        print(\"The list is empty.\")\n",
    "    else:\n",
    "        lst.sort()\n",
    "        print(\"The sorted list in increasing order:\")\n",
    "        print(lst)\n",
    "\n",
    "# Example usage\n",
    "my_list = [5, 2, 8, 1, 9]\n",
    "check_and_sort_list(my_list)\n",
    "\n",
    "empty_list = []\n",
    "check_and_sort_list(empty_list)\n"
   ]
  },
  {
   "cell_type": "markdown",
   "metadata": {},
   "source": [
    "### 13. Write a Python function that takes two lists and returns True if they have at least one common member."
   ]
  },
  {
   "cell_type": "code",
   "execution_count": 17,
   "metadata": {},
   "outputs": [
    {
     "name": "stdout",
     "output_type": "stream",
     "text": [
      "True\n",
      "False\n"
     ]
    }
   ],
   "source": [
    "def have_common_member(list1, list2):\n",
    "    for item in list1:\n",
    "        if item in list2:\n",
    "            return True\n",
    "    return False\n",
    "\n",
    "# Example usage\n",
    "list1 = [1, 2, 3, 4, 5]\n",
    "list2 = [4, 5, 6, 7, 8]\n",
    "list3 = [9, 10, 11, 12]\n",
    "\n",
    "print(have_common_member(list1, list2)) \n",
    "print(have_common_member(list1, list3)) \n"
   ]
  },
  {
   "cell_type": "markdown",
   "metadata": {},
   "source": [
    "### 14. Write a Python program to print the numbers of a specified list after removing even numbers from it."
   ]
  },
  {
   "cell_type": "code",
   "execution_count": 18,
   "metadata": {},
   "outputs": [
    {
     "name": "stdout",
     "output_type": "stream",
     "text": [
      "Original list: [1, 2, 3, 4, 5, 6, 7, 8, 9, 10]\n",
      "List after removing even numbers: [1, 3, 5, 7, 9]\n"
     ]
    }
   ],
   "source": [
    "def remove_even_numbers(numbers):\n",
    "    odd_numbers = [num for num in numbers if num % 2 != 0]\n",
    "    return odd_numbers\n",
    "\n",
    "# Example usage\n",
    "my_list = [1, 2, 3, 4, 5, 6, 7, 8, 9, 10]\n",
    "result = remove_even_numbers(my_list)\n",
    "print(\"Original list:\", my_list)\n",
    "print(\"List after removing even numbers:\", result)\n"
   ]
  },
  {
   "cell_type": "code",
   "execution_count": null,
   "metadata": {},
   "outputs": [],
   "source": []
  }
 ],
 "metadata": {
  "kernelspec": {
   "display_name": "Python 3",
   "language": "python",
   "name": "python3"
  },
  "language_info": {
   "codemirror_mode": {
    "name": "ipython",
    "version": 3
   },
   "file_extension": ".py",
   "mimetype": "text/x-python",
   "name": "python",
   "nbconvert_exporter": "python",
   "pygments_lexer": "ipython3",
   "version": "3.12.1"
  }
 },
 "nbformat": 4,
 "nbformat_minor": 2
}
